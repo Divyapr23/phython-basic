{
  "cells": [
    {
      "cell_type": "markdown",
      "metadata": {
        "id": "iSHz9l_NS8tP"
      },
      "source": [
        "ASSIGNMENT 1"
      ]
    },
    {
      "cell_type": "markdown",
      "metadata": {
        "id": "olfPvjrEYWYc"
      },
      "source": [
        "1.What is Python, and why is it popular?\n",
        "\n",
        "Answer:\n",
        "Python is a high-level, interpreted, and general-purpose programming language known for its simple syntax, readability, and versatility. It supports multiple programming paradigms (procedural, OOP, functional) and is widely used in web development, data science, AI, automation, and more.  \n",
        "\n",
        "Why Popular?\n",
        "✔ Easy to learn & read.  \n",
        "✔ Extensive libraries (NumPy, Pandas, Django).  \n",
        "✔ Strong community & industry demand.  \n",
        "✔ Cross-platform compatibility."
      ]
    },
    {
      "cell_type": "markdown",
      "metadata": {
        "id": "VX_YWz2wYgtd"
      },
      "source": [
        "2.What is an interpreter in Python?\n",
        "\n",
        "Answer:\n",
        "\n",
        "An interpreter in Python is a program that executes Python code line by line(without compiling it into machine code first). It reads, translates, and runs the code sequentially, making debugging easier but slightly slower than compiled languages."
      ]
    },
    {
      "cell_type": "markdown",
      "metadata": {
        "id": "fMFmyOuwdPzO"
      },
      "source": [
        "3.What are pre-defined keywords in Python?  \n",
        "Answer:  \n",
        "Pre-defined keywords are reserved words in Python that have special meanings and\n",
        "cannot be used as identifiers(e.g., variable names).\n",
        "\n",
        " Examples:  \n",
        "- if, else, for, while, def, class, True, False, None."
      ]
    },
    {
      "cell_type": "markdown",
      "metadata": {
        "id": "vrIwQdKqddpp"
      },
      "source": [
        "4.Can keywords be used as variable names?  \n",
        "Answer:\n",
        "No, Python keywords cannot be used as variable names. Attempting to do so raises a SyntaxError."
      ]
    },
    {
      "cell_type": "code",
      "execution_count": null,
      "metadata": {
        "id": "JbaoP75bdJki"
      },
      "outputs": [],
      "source": [
        "if=10 #it will give Syntax error"
      ]
    },
    {
      "cell_type": "markdown",
      "metadata": {
        "id": "Dz2iFJeGeIL2"
      },
      "source": [
        "5.What is mutability in Python?\n",
        "\n",
        "Answer:\n",
        "Mutability refers to whether an object’s value can be changed after creation.  \n",
        "- Mutable: Can be modified (e.g., lists, dictionaries).  \n",
        "- Immutable: Cannot be modified (e.g., tuples, strings, integers).\n",
        "\n"
      ]
    },
    {
      "cell_type": "markdown",
      "metadata": {
        "id": "5hAsLF7medS7"
      },
      "source": [
        "6.Why are lists mutable, but tuples are immutable?\n",
        "Answer:\n",
        "- Lists are mutable to allow dynamic operations (add/remove elements).  \n",
        "- Tuples are immutable for safety(e.g., use as dictionary keys) and performance optimization.\n",
        "\n",
        "For example:"
      ]
    },
    {
      "cell_type": "code",
      "execution_count": null,
      "metadata": {
        "id": "4wRIZ0l4SyLv"
      },
      "outputs": [],
      "source": [
        "list1=[1,2]\n",
        "list1[0]=88 #This code works as lists are mutable\n",
        "\n",
        "tuple1=(1,2)\n",
        "tuple1[0]=88 #This code wont work as tuple is non mutable"
      ]
    },
    {
      "cell_type": "markdown",
      "metadata": {
        "id": "EyDlUhjIfk43"
      },
      "source": [
        "7. What is the difference between “==” and “is” operators?\n",
        "Answer:\n",
        "- == checks value equality.  \n",
        "- is  checks memory Identity (same object).\n",
        "\n",
        "For example:"
      ]
    },
    {
      "cell_type": "code",
      "execution_count": null,
      "metadata": {
        "id": "FQbq5dzDf2dr"
      },
      "outputs": [],
      "source": [
        "a=[1,2]\n",
        "b=[1,2]\n",
        "print(a == b) #True as these are same values\n",
        "print(a is b) #Although their values are same,their identities are not same hence it wont work"
      ]
    },
    {
      "cell_type": "markdown",
      "metadata": {
        "id": "NsrEJU6ngmtZ"
      },
      "source": [
        "8. What are logical operators in Python?\n",
        "Answer:\n",
        "Logical operators perform boolean logic:  \n",
        "- and → True if both operands are true.  \n",
        "- or → True if at least one operand is true.  \n",
        "- not → Inverts the boolean value"
      ]
    },
    {
      "cell_type": "code",
      "execution_count": null,
      "metadata": {
        "colab": {
          "base_uri": "https://localhost:8080/"
        },
        "id": "iMkHbKARg-2W",
        "outputId": "c30e1324-653b-4057-ffa4-df30270d3e8a"
      },
      "outputs": [
        {
          "name": "stdout",
          "output_type": "stream",
          "text": [
            "True\n"
          ]
        }
      ],
      "source": [
        "a=5\n",
        "b=3\n",
        "c=10\n",
        "d=20\n",
        "if a>b and c<d:\n",
        "  print('True')\n",
        "else:\n",
        "  print('False')"
      ]
    },
    {
      "cell_type": "markdown",
      "metadata": {
        "id": "aFNxCxsHhrdZ"
      },
      "source": [
        "9.What is type casting in Python?\n",
        "Answer:  \n",
        "Type casting converts one data type to another explicitly.  \n",
        "- int(\"10\") → String to integer.  \n",
        "- str(100) → Integer to string"
      ]
    },
    {
      "cell_type": "code",
      "execution_count": null,
      "metadata": {
        "colab": {
          "base_uri": "https://localhost:8080/"
        },
        "id": "vCsMLbYRiAik",
        "outputId": "6e0e05af-7b05-4350-f247-b63e8d5f41e5"
      },
      "outputs": [
        {
          "name": "stdout",
          "output_type": "stream",
          "text": [
            "<class 'int'>\n"
          ]
        }
      ],
      "source": [
        "num_str=\"10\"\n",
        "num_int=int(num_str)\n",
        "print(type(num_int))"
      ]
    },
    {
      "cell_type": "markdown",
      "metadata": {
        "id": "DtP_L3rviZNP"
      },
      "source": [
        "10. Difference between implicit and explicit type casting?\n",
        "Answer:\n",
        "- Implicit: Python automatically converts types (e.g., int + float → float).  \n",
        "- Explicit: Programmer manually converts types (e.g., str(100))."
      ]
    },
    {
      "cell_type": "code",
      "execution_count": null,
      "metadata": {
        "colab": {
          "base_uri": "https://localhost:8080/"
        },
        "id": "PYU4JuYCixOl",
        "outputId": "e6633c29-4a44-41d1-debd-25bed8a305b3"
      },
      "outputs": [
        {
          "name": "stdout",
          "output_type": "stream",
          "text": [
            "<class 'float'>\n",
            "<class 'int'>\n"
          ]
        }
      ],
      "source": [
        "#implicit\n",
        "result=5+2.0\n",
        "\n",
        "#explicit\n",
        "age=int(\"25\")\n",
        "\n",
        "print(type(result))\n",
        "print(type(age))"
      ]
    },
    {
      "cell_type": "markdown",
      "metadata": {
        "id": "pQNBz_IDjg84"
      },
      "source": [
        "11.Purpose of conditional statements in  Python?\n",
        "\n",
        "Answer:\n",
        "Conditional statements (if, elif, else) control program flow based on conditions.\n",
        "\n",
        "Example:"
      ]
    },
    {
      "cell_type": "code",
      "execution_count": null,
      "metadata": {
        "id": "YmcgFlkTjqRt"
      },
      "outputs": [],
      "source": [
        "if age >= 18:\n",
        "  print('Adult')\n",
        "else:\n",
        "  print(\"Minor\")"
      ]
    },
    {
      "cell_type": "markdown",
      "metadata": {
        "id": "iZdmPYM5ql0O"
      },
      "source": [
        "12.How does the elif statement work?\n",
        "\n",
        "Answer:\n",
        "elif (else-if) checks multiple conditions after an if statement. The first true condition executes, and the rest are skipped."
      ]
    },
    {
      "cell_type": "code",
      "execution_count": null,
      "metadata": {
        "id": "KBEs4TzlqxhQ"
      },
      "outputs": [],
      "source": [
        "score=75\n",
        "if score >= 90:\n",
        "  print('A')\n",
        "elif score >= 90:\n",
        "  print('B')\n",
        "else:\n",
        "  print('C')"
      ]
    },
    {
      "cell_type": "markdown",
      "metadata": {
        "id": "TEU-WtTVrdiJ"
      },
      "source": [
        "13.Difference between for and while loops?\n",
        "\n",
        "Answer:\n",
        "- for loop: Iterates over a sequence (e.g., list, string).  \n",
        "- while loop: Runs until a condition is false."
      ]
    },
    {
      "cell_type": "code",
      "execution_count": null,
      "metadata": {
        "colab": {
          "base_uri": "https://localhost:8080/"
        },
        "id": "WrQBwMCFrrHp",
        "outputId": "392081e1-a46e-483f-dae1-e12bf2827e51"
      },
      "outputs": [
        {
          "name": "stdout",
          "output_type": "stream",
          "text": [
            "Python\n",
            "Python\n",
            "Python\n",
            "0\n",
            "1\n",
            "2\n"
          ]
        }
      ],
      "source": [
        "#For loop\n",
        "for i in range(0,3):\n",
        "  print('Python')\n",
        "\n",
        "#While loop\n",
        "count=0\n",
        "while count<3:\n",
        "  print(count)\n",
        "  count += 1"
      ]
    },
    {
      "cell_type": "markdown",
      "metadata": {
        "id": "mmCR4TGUs3pM"
      },
      "source": [
        "14.When is a while loop more suitable than a for loop?\n",
        "\n",
        "Answer:\n",
        "Use while when:  \n",
        "✔ The number of iterations is unknown (e.g., user input validation).  \n",
        "✔ A condition must persist (e.g., game loop, real-time monitoring)."
      ]
    },
    {
      "cell_type": "code",
      "execution_count": null,
      "metadata": {
        "colab": {
          "base_uri": "https://localhost:8080/"
        },
        "id": "8-uNIwJls8pK",
        "outputId": "8e8ef8a0-5df4-4f44-a659-7f1423771920"
      },
      "outputs": [
        {
          "name": "stdout",
          "output_type": "stream",
          "text": [
            "Enter 'quit' to exit: quit\n"
          ]
        }
      ],
      "source": [
        "# User input validation\n",
        "while True:\n",
        "    user_input = input(\"Enter 'quit' to exit: \")\n",
        "    if user_input == \"quit\":\n",
        "        break"
      ]
    },
    {
      "cell_type": "markdown",
      "metadata": {
        "id": "Gw0dxgq-wDYm"
      },
      "source": [
        "Practical **Questions**"
      ]
    },
    {
      "cell_type": "markdown",
      "metadata": {
        "id": "ZWLRb2-CwMSH"
      },
      "source": [
        "1. Write a Python program to print \"Hello, World!"
      ]
    },
    {
      "cell_type": "code",
      "execution_count": null,
      "metadata": {
        "colab": {
          "base_uri": "https://localhost:8080/"
        },
        "id": "sCFucJvxwUaJ",
        "outputId": "837a913e-a7e8-4fe5-a744-40ba555ae1f1"
      },
      "outputs": [
        {
          "name": "stdout",
          "output_type": "stream",
          "text": [
            "Hello, World!\n"
          ]
        }
      ],
      "source": [
        "print(\"Hello, World!\")"
      ]
    },
    {
      "cell_type": "markdown",
      "metadata": {
        "id": "G2ClpPGMwddI"
      },
      "source": [
        "2. Write a Python program that displays your name and age"
      ]
    },
    {
      "cell_type": "code",
      "execution_count": null,
      "metadata": {
        "colab": {
          "base_uri": "https://localhost:8080/"
        },
        "id": "fjun1gRYwzBp",
        "outputId": "0a9f1d89-024b-45e1-ad6e-17b47efd9bf3"
      },
      "outputs": [
        {
          "name": "stdout",
          "output_type": "stream",
          "text": [
            "Enter your name: sagar\n",
            "Enter your age: 23\n",
            "Name: sagar, Age: 23\n"
          ]
        }
      ],
      "source": [
        "name = input(\"Enter your name: \")\n",
        "age = input(\"Enter your age: \")\n",
        "print(f\"Name: {name}, Age: {age}\")"
      ]
    },
    {
      "cell_type": "markdown",
      "metadata": {
        "id": "6bM7stKnxSB9"
      },
      "source": [
        "3. Write code to print all the pre-defined keywords in Python using the keyword library."
      ]
    },
    {
      "cell_type": "code",
      "execution_count": null,
      "metadata": {
        "colab": {
          "base_uri": "https://localhost:8080/"
        },
        "id": "mpLhphvBxYDG",
        "outputId": "4ada5ac5-1a24-464c-c735-770e13dd58b5"
      },
      "outputs": [
        {
          "name": "stdout",
          "output_type": "stream",
          "text": [
            "Python keywords: ['False', 'None', 'True', 'and', 'as', 'assert', 'async', 'await', 'break', 'class', 'continue', 'def', 'del', 'elif', 'else', 'except', 'finally', 'for', 'from', 'global', 'if', 'import', 'in', 'is', 'lambda', 'nonlocal', 'not', 'or', 'pass', 'raise', 'return', 'try', 'while', 'with', 'yield']\n"
          ]
        }
      ],
      "source": [
        "import keyword\n",
        "print(\"Python keywords:\", keyword.kwlist)"
      ]
    },
    {
      "cell_type": "markdown",
      "metadata": {
        "id": "PTIAWZNMx7Jy"
      },
      "source": [
        "4. Write a program that checks if a given word is a Python keyword."
      ]
    },
    {
      "cell_type": "code",
      "execution_count": null,
      "metadata": {
        "colab": {
          "base_uri": "https://localhost:8080/"
        },
        "id": "un4fIOG3yK9x",
        "outputId": "ed92f2de-5d92-444f-aa26-5f119ffcef9f"
      },
      "outputs": [
        {
          "name": "stdout",
          "output_type": "stream",
          "text": [
            "Enter a word: def\n",
            "def is a keyword: True\n"
          ]
        }
      ],
      "source": [
        "import keyword\n",
        "\n",
        "word = input(\"Enter a word: \")\n",
        "print(f\"{word} is a keyword: {keyword.iskeyword(word)}\")"
      ]
    },
    {
      "cell_type": "markdown",
      "metadata": {
        "id": "cHBBdbzHymzP"
      },
      "source": [
        "5. Create a list and tuple in Python, and demonstrate how attempting to change an element works differently\n",
        "for each."
      ]
    },
    {
      "cell_type": "code",
      "execution_count": null,
      "metadata": {
        "colab": {
          "base_uri": "https://localhost:8080/"
        },
        "id": "Ab3oZ0dWyuUP",
        "outputId": "7f299df1-ff24-4d52-a8c2-5c35baad80fe"
      },
      "outputs": [
        {
          "name": "stdout",
          "output_type": "stream",
          "text": [
            "Modified list: [10, 2, 3]\n",
            "Tuple modification error: 'tuple' object does not support item assignment\n"
          ]
        }
      ],
      "source": [
        "my_list = [1, 2, 3]\n",
        "my_tuple = (1, 2, 3)\n",
        "\n",
        "# Modify list (works)\n",
        "my_list[0] = 10\n",
        "print(\"Modified list:\", my_list)\n",
        "\n",
        "# Attempt to modify tuple (raises error)\n",
        "try:\n",
        "    my_tuple[0] = 10\n",
        "except TypeError as e:\n",
        "    print(\"Tuple modification error:\", e)"
      ]
    },
    {
      "cell_type": "markdown",
      "metadata": {
        "id": "lpeHj3SpzGzi"
      },
      "source": [
        "6. Write a function to demonstrate the behavior of mutable and immutable arguments"
      ]
    },
    {
      "cell_type": "code",
      "execution_count": null,
      "metadata": {
        "colab": {
          "base_uri": "https://localhost:8080/"
        },
        "id": "nSYok3nLzH_F",
        "outputId": "6e7af98d-8d72-4d5d-8c4f-dd367498e581"
      },
      "outputs": [
        {
          "name": "stdout",
          "output_type": "stream",
          "text": [
            "Inside function: [1, 2, 3, 4] 15\n",
            "Outside function: [1, 2, 3, 4] 5\n"
          ]
        }
      ],
      "source": [
        "def modify_args(mutable_list, immutable_int):\n",
        "    mutable_list.append(4)\n",
        "    immutable_int += 10\n",
        "    print(\"Inside function:\", mutable_list, immutable_int)\n",
        "\n",
        "my_list = [1, 2, 3]\n",
        "my_int = 5\n",
        "modify_args(my_list, my_int)\n",
        "print(\"Outside function:\", my_list, my_int)"
      ]
    },
    {
      "cell_type": "markdown",
      "metadata": {
        "id": "7C6g4wXLz2GE"
      },
      "source": [
        "7. Write a program that performs basic arithmetic operations on two user-input numbers."
      ]
    },
    {
      "cell_type": "code",
      "execution_count": null,
      "metadata": {
        "colab": {
          "base_uri": "https://localhost:8080/"
        },
        "id": "K86HtwGkz5Ig",
        "outputId": "4676ae8a-d063-41ec-d417-e24f1b20c3d3"
      },
      "outputs": [
        {
          "name": "stdout",
          "output_type": "stream",
          "text": [
            "Enter first number: 5\n",
            "Enter second number: 6\n",
            "Sum: 11.0\n",
            "Difference: -1.0\n",
            "Product: 30.0\n",
            "Quotient: 0.8333333333333334\n"
          ]
        }
      ],
      "source": [
        "num1 = float(input(\"Enter first number: \"))\n",
        "num2 = float(input(\"Enter second number: \"))\n",
        "\n",
        "print(f\"Sum: {num1 + num2}\")\n",
        "print(f\"Difference: {num1 - num2}\")\n",
        "print(f\"Product: {num1 * num2}\")\n",
        "print(f\"Quotient: {num1 / num2}\")"
      ]
    },
    {
      "cell_type": "markdown",
      "metadata": {
        "id": "lbYmblrW0dpo"
      },
      "source": [
        "8. Write a program to demonstrate the use of logical operators."
      ]
    },
    {
      "cell_type": "code",
      "execution_count": null,
      "metadata": {
        "colab": {
          "base_uri": "https://localhost:8080/"
        },
        "id": "QHn_UmUl0et5",
        "outputId": "236cdf99-98b9-489d-e96e-eca1715b51d8"
      },
      "outputs": [
        {
          "name": "stdout",
          "output_type": "stream",
          "text": [
            "a and b: False\n",
            "a or b: True\n",
            "not a: False\n"
          ]
        }
      ],
      "source": [
        "a = True\n",
        "b = False\n",
        "\n",
        "print(f\"a and b: {a and b}\")  # False\n",
        "print(f\"a or b: {a or b}\")    # True\n",
        "print(f\"not a: {not a}\")      # False"
      ]
    },
    {
      "cell_type": "markdown",
      "metadata": {
        "id": "mx_nXjR50qeS"
      },
      "source": [
        "9. Write a Python program to convert user input from string to integer, float, and boolean types."
      ]
    },
    {
      "cell_type": "code",
      "execution_count": null,
      "metadata": {
        "colab": {
          "base_uri": "https://localhost:8080/"
        },
        "id": "KjqSM6wo0r1P",
        "outputId": "17985141-7e0e-460a-8db9-14468a10c337"
      },
      "outputs": [
        {
          "name": "stdout",
          "output_type": "stream",
          "text": [
            "Enter a value 85\n",
            "Integer:  85\n",
            "Float:  85.0\n",
            "Boolean:  True\n"
          ]
        }
      ],
      "source": [
        "a=input('Enter a value ')\n",
        "a=str(a)\n",
        "try:\n",
        "  print('Integer: ',int(a))\n",
        "  print('Float: ',float(a))\n",
        "  print('Boolean: ',bool(a))\n",
        "except ValueError:\n",
        "  print('Invalid input')"
      ]
    },
    {
      "cell_type": "markdown",
      "metadata": {
        "id": "tpfPKjBa3yAo"
      },
      "source": [
        "10. Write code to demonstrate type casting with list elements."
      ]
    },
    {
      "cell_type": "code",
      "execution_count": null,
      "metadata": {
        "colab": {
          "base_uri": "https://localhost:8080/"
        },
        "id": "WwdIbFaf34sJ",
        "outputId": "bd58b55f-661d-4e28-fc16-cbe2ef119d72"
      },
      "outputs": [
        {
          "name": "stdout",
          "output_type": "stream",
          "text": [
            "Int List: [10, 30], Float List: [10.0, 20.5, 30.0], Bool List: [True, True, True, True]\n"
          ]
        }
      ],
      "source": [
        "original_list = ['10', '20.5', '30', 'True']\n",
        "\n",
        "int_list = [int(x) for x in original_list if x.isdigit()]\n",
        "float_list = [float(x) for x in original_list if x.replace('.', '', 1).isdigit()]\n",
        "bool_list = [bool(x) for x in original_list]\n",
        "\n",
        "print(f\"Int List: {int_list}, Float List: {float_list}, Bool List: {bool_list}\")"
      ]
    },
    {
      "cell_type": "markdown",
      "metadata": {
        "id": "vYbqMVil9VZy"
      },
      "source": [
        "11. Write a program that checks if a number is positive, negative, or zero"
      ]
    },
    {
      "cell_type": "code",
      "execution_count": null,
      "metadata": {
        "colab": {
          "base_uri": "https://localhost:8080/"
        },
        "id": "K-hCvO2N9XDQ",
        "outputId": "01a5919e-257f-45ae-a190-0f914761e511"
      },
      "outputs": [
        {
          "name": "stdout",
          "output_type": "stream",
          "text": [
            "Enter the number :5\n",
            "Nmuber is postive\n"
          ]
        }
      ],
      "source": [
        "num=float(input('Enter the number :'))\n",
        "if num>0:\n",
        "  print('Nmuber is postive')\n",
        "elif num<0:\n",
        "  print('Number is negative')\n",
        "else:\n",
        "  print('Number is zero')"
      ]
    },
    {
      "cell_type": "markdown",
      "metadata": {
        "id": "NkrfshST-iIC"
      },
      "source": [
        "12. Write a for loop to print numbers from 1 to 10.\n",
        "\n"
      ]
    },
    {
      "cell_type": "code",
      "execution_count": null,
      "metadata": {
        "colab": {
          "base_uri": "https://localhost:8080/"
        },
        "id": "_sGstkww-jzf",
        "outputId": "51ac88e8-8f4f-4992-fa93-a46d2bd1757b"
      },
      "outputs": [
        {
          "name": "stdout",
          "output_type": "stream",
          "text": [
            "1\n",
            "2\n",
            "3\n",
            "4\n",
            "5\n",
            "6\n",
            "7\n",
            "8\n",
            "9\n",
            "10\n"
          ]
        }
      ],
      "source": [
        "for i in range(1, 11):\n",
        "    print(i)"
      ]
    },
    {
      "cell_type": "markdown",
      "metadata": {
        "id": "RCXcC9RO-3Ja"
      },
      "source": [
        "13. Write a Python program to find the sum of all even numbers between 1 and 50."
      ]
    },
    {
      "cell_type": "code",
      "execution_count": null,
      "metadata": {
        "colab": {
          "base_uri": "https://localhost:8080/"
        },
        "id": "n7mmTvMA-66t",
        "outputId": "3ac5729c-555e-47ab-bf37-83e3965cae71"
      },
      "outputs": [
        {
          "name": "stdout",
          "output_type": "stream",
          "text": [
            "Sum of even numbers (1-50): 650\n"
          ]
        }
      ],
      "source": [
        "total = sum(range(2, 51, 2))\n",
        "print(\"Sum of even numbers (1-50):\", total)"
      ]
    },
    {
      "cell_type": "markdown",
      "metadata": {
        "id": "dcX9VYIh_HVN"
      },
      "source": [
        "14. Write a program to reverse a string using a while loop."
      ]
    },
    {
      "cell_type": "code",
      "execution_count": null,
      "metadata": {
        "colab": {
          "base_uri": "https://localhost:8080/"
        },
        "id": "uzI5GESP_JEU",
        "outputId": "11a6f8d8-75f3-4368-b75c-bd16e8a8184a"
      },
      "outputs": [
        {
          "name": "stdout",
          "output_type": "stream",
          "text": [
            "Enter a string: afwshjsjh\n",
            "Reversed: hjsjhswfa\n"
          ]
        }
      ],
      "source": [
        "s = input(\"Enter a string: \")\n",
        "reversed_str = \"\"\n",
        "index = len(s) - 1\n",
        "\n",
        "while index >= 0:\n",
        "    reversed_str += s[index]\n",
        "    index -= 1\n",
        "print(\"Reversed:\", reversed_str)"
      ]
    },
    {
      "cell_type": "markdown",
      "metadata": {
        "id": "ZGf5IKu0_i5J"
      },
      "source": [
        "15. Write a Python program to calculate the factorial of a number provided by the user using a while loop."
      ]
    },
    {
      "cell_type": "code",
      "execution_count": null,
      "metadata": {
        "colab": {
          "base_uri": "https://localhost:8080/"
        },
        "id": "qg3bLU86_j4u",
        "outputId": "6ec92fe8-82e9-46ee-e11a-5d28780e63cf"
      },
      "outputs": [
        {
          "name": "stdout",
          "output_type": "stream",
          "text": [
            "Enter a number: 6\n",
            "Factorial: 720\n"
          ]
        }
      ],
      "source": [
        "num = int(input(\"Enter a number: \"))\n",
        "factorial = 1\n",
        "\n",
        "if num < 0:\n",
        "    print(\"Invalid input (negative number)\")\n",
        "else:\n",
        "    while num > 0:\n",
        "        factorial *= num\n",
        "        num -= 1\n",
        "    print(\"Factorial:\", factorial)"
      ]
    }
  ],
  "metadata": {
    "colab": {
      "provenance": []
    },
    "kernelspec": {
      "display_name": "Python 3",
      "name": "python3"
    },
    "language_info": {
      "name": "python"
    }
  },
  "nbformat": 4,
  "nbformat_minor": 0
}
